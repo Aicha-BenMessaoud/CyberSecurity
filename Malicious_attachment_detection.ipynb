{
 "cells": [
  {
   "cell_type": "code",
   "execution_count": 22,
   "id": "19121487",
   "metadata": {},
   "outputs": [
    {
     "name": "stdout",
     "output_type": "stream",
     "text": [
      "{'harmless': 0, 'type-unsupported': 15, 'suspicious': 0, 'confirmed-timeout': 0, 'timeout': 0, 'failure': 0, 'malicious': 0, 'undetected': 59}\n"
     ]
    }
   ],
   "source": [
    "\n",
    "import requests\n",
    "\n",
    "# URL to upload the file\n",
    "upload_url = \"https://www.virustotal.com/api/v3/files\"\n",
    "\n",
    "# URL to get analysis results\n",
    "analysis_url = \"https://www.virustotal.com/api/v3/analyses/\"\n",
    "\n",
    "# API key\n",
    "api_key = \"96893c6697cf422304f1edccf5a3019744bb9eddd7bd2d356f1499171ce4a893\"\n",
    "\n",
    "# Headers for all requests\n",
    "headers = {\"x-apikey\": api_key}\n",
    "\n",
    "# Path to the file to be uploaded\n",
    "file_path = \"Capture d’écran 2023-04-15 234531.png\"\n",
    "\n",
    "# Upload the file\n",
    "with open(file_path, \"rb\") as file:\n",
    "    response = requests.post(upload_url, headers=headers, files={\"file\": file})\n",
    "\n",
    "# Extract the analysis ID from the response\n",
    "analysis_id = response.json()[\"data\"][\"id\"]\n",
    "\n",
    "# Analyze the file\n",
    "params = {\"include\": \"stats\"}\n",
    "analysis_url += analysis_id\n",
    "response = requests.get(analysis_url, headers=headers, params=params)\n",
    "\n",
    "# Get the analysis results\n",
    "stats = response.json()[\"data\"][\"attributes\"][\"stats\"]\n",
    "print(stats)\n"
   ]
  },
  {
   "cell_type": "code",
   "execution_count": null,
   "id": "8154e4b2",
   "metadata": {},
   "outputs": [],
   "source": []
  }
 ],
 "metadata": {
  "kernelspec": {
   "display_name": "Python 3",
   "language": "python",
   "name": "python3"
  },
  "language_info": {
   "codemirror_mode": {
    "name": "ipython",
    "version": 3
   },
   "file_extension": ".py",
   "mimetype": "text/x-python",
   "name": "python",
   "nbconvert_exporter": "python",
   "pygments_lexer": "ipython3",
   "version": "3.8.8"
  }
 },
 "nbformat": 4,
 "nbformat_minor": 5
}
