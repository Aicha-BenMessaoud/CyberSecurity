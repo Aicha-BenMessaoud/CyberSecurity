{
 "cells": [
  {
   "cell_type": "markdown",
   "id": "b4bd87e3",
   "metadata": {},
   "source": [
    "# Sentiment Analysis and emotions' detection from text"
   ]
  },
  {
   "cell_type": "markdown",
   "id": "480164d2",
   "metadata": {},
   "source": [
    "In the context of email phishing detection, analyzing the sentiments and emotions expressed in emails can be an effective approach for identifying potential phishing attempts. By building a machine learning model that leverages these techniques, we can enhance the accuracy and robustness of our phishing detection system."
   ]
  },
  {
   "cell_type": "code",
   "execution_count": 1,
   "id": "3099bb25",
   "metadata": {},
   "outputs": [
    {
     "name": "stdout",
     "output_type": "stream",
     "text": [
      "Requirement already satisfied: NRCLex in c:\\users\\msi\\anaconda3\\lib\\site-packages (3.0.0)\n",
      "Requirement already satisfied: textblob in c:\\users\\msi\\anaconda3\\lib\\site-packages (from NRCLex) (0.17.1)\n",
      "Requirement already satisfied: nltk>=3.1 in c:\\users\\msi\\anaconda3\\lib\\site-packages (from textblob->NRCLex) (3.6.1)\n",
      "Requirement already satisfied: joblib in c:\\users\\msi\\anaconda3\\lib\\site-packages (from nltk>=3.1->textblob->NRCLex) (1.0.1)\n",
      "Requirement already satisfied: click in c:\\users\\msi\\anaconda3\\lib\\site-packages (from nltk>=3.1->textblob->NRCLex) (7.1.2)\n",
      "Requirement already satisfied: regex in c:\\users\\msi\\anaconda3\\lib\\site-packages (from nltk>=3.1->textblob->NRCLex) (2021.4.4)\n",
      "Requirement already satisfied: tqdm in c:\\users\\msi\\anaconda3\\lib\\site-packages (from nltk>=3.1->textblob->NRCLex) (4.59.0)\n",
      "Note: you may need to restart the kernel to use updated packages.\n"
     ]
    },
    {
     "name": "stderr",
     "output_type": "stream",
     "text": [
      "WARNING: Ignoring invalid distribution -rotobuf (c:\\users\\msi\\anaconda3\\lib\\site-packages)\n",
      "WARNING: Ignoring invalid distribution -rotobuf (c:\\users\\msi\\anaconda3\\lib\\site-packages)\n",
      "WARNING: Ignoring invalid distribution -rotobuf (c:\\users\\msi\\anaconda3\\lib\\site-packages)\n",
      "WARNING: Ignoring invalid distribution -rotobuf (c:\\users\\msi\\anaconda3\\lib\\site-packages)\n",
      "WARNING: Ignoring invalid distribution -rotobuf (c:\\users\\msi\\anaconda3\\lib\\site-packages)\n",
      "WARNING: Ignoring invalid distribution -rotobuf (c:\\users\\msi\\anaconda3\\lib\\site-packages)\n",
      "\n",
      "[notice] A new release of pip is available: 23.0 -> 23.1.2\n",
      "[notice] To update, run: python.exe -m pip install --upgrade pip\n"
     ]
    }
   ],
   "source": [
    "pip install NRCLex\n"
   ]
  },
  {
   "cell_type": "code",
   "execution_count": 2,
   "id": "53386539",
   "metadata": {},
   "outputs": [
    {
     "name": "stdout",
     "output_type": "stream",
     "text": [
      "Requirement already satisfied: vaderSentiment in c:\\users\\msi\\anaconda3\\lib\\site-packages (3.3.2)\n",
      "Requirement already satisfied: requests in c:\\users\\msi\\anaconda3\\lib\\site-packages (from vaderSentiment) (2.25.1)\n",
      "Requirement already satisfied: certifi>=2017.4.17 in c:\\users\\msi\\anaconda3\\lib\\site-packages (from requests->vaderSentiment) (2020.12.5)\n",
      "Requirement already satisfied: urllib3<1.27,>=1.21.1 in c:\\users\\msi\\anaconda3\\lib\\site-packages (from requests->vaderSentiment) (1.26.4)\n",
      "Requirement already satisfied: idna<3,>=2.5 in c:\\users\\msi\\anaconda3\\lib\\site-packages (from requests->vaderSentiment) (2.10)\n",
      "Requirement already satisfied: chardet<5,>=3.0.2 in c:\\users\\msi\\anaconda3\\lib\\site-packages (from requests->vaderSentiment) (4.0.0)\n",
      "Note: you may need to restart the kernel to use updated packages.\n"
     ]
    },
    {
     "name": "stderr",
     "output_type": "stream",
     "text": [
      "WARNING: Ignoring invalid distribution -rotobuf (c:\\users\\msi\\anaconda3\\lib\\site-packages)\n",
      "WARNING: Ignoring invalid distribution -rotobuf (c:\\users\\msi\\anaconda3\\lib\\site-packages)\n",
      "WARNING: Ignoring invalid distribution -rotobuf (c:\\users\\msi\\anaconda3\\lib\\site-packages)\n",
      "WARNING: Ignoring invalid distribution -rotobuf (c:\\users\\msi\\anaconda3\\lib\\site-packages)\n",
      "WARNING: Ignoring invalid distribution -rotobuf (c:\\users\\msi\\anaconda3\\lib\\site-packages)\n",
      "WARNING: Ignoring invalid distribution -rotobuf (c:\\users\\msi\\anaconda3\\lib\\site-packages)\n",
      "\n",
      "[notice] A new release of pip is available: 23.0 -> 23.1.2\n",
      "[notice] To update, run: python.exe -m pip install --upgrade pip\n"
     ]
    }
   ],
   "source": [
    "pip install vaderSentiment\n"
   ]
  },
  {
   "cell_type": "markdown",
   "id": "343ef81f",
   "metadata": {},
   "source": [
    "### Importing librairies"
   ]
  },
  {
   "cell_type": "code",
   "execution_count": 3,
   "id": "01f1984a",
   "metadata": {},
   "outputs": [],
   "source": [
    "import pandas as pd\n",
    "import numpy as np\n",
    "import matplotlib.pyplot as plt\n",
    "import re\n",
    "import seaborn as sns\n",
    "import joblib"
   ]
  },
  {
   "cell_type": "markdown",
   "id": "326d4fdc",
   "metadata": {},
   "source": [
    "### Load data"
   ]
  },
  {
   "cell_type": "code",
   "execution_count": 4,
   "id": "16d7b022",
   "metadata": {},
   "outputs": [],
   "source": [
    "df = pd.read_excel('output_email.xlsx')"
   ]
  },
  {
   "cell_type": "markdown",
   "id": "c46ec619",
   "metadata": {},
   "source": [
    "## Extract emotions from text"
   ]
  },
  {
   "cell_type": "code",
   "execution_count": 5,
   "id": "d98f3319",
   "metadata": {},
   "outputs": [],
   "source": [
    "def extract_emotions(text):\n",
    "    sentiment = NRCLex(text)\n",
    "    emotions = sentiment.raw_emotion_scores\n",
    "    return {emotion: int(score > 0) for emotion, score in emotions.items()}"
   ]
  },
  {
   "cell_type": "code",
   "execution_count": 6,
   "id": "9594cfec",
   "metadata": {},
   "outputs": [],
   "source": [
    "from nrclex import NRCLex\n",
    "# convert values in 'Text' column to strings\n",
    "df['Text'] = df['Text'].astype(str)\n",
    "\n",
    "# apply the function to each row of the DataFrame\n",
    "emotions_df = df['Text'].apply(extract_emotions).apply(pd.Series)\n"
   ]
  },
  {
   "cell_type": "code",
   "execution_count": 7,
   "id": "30245727",
   "metadata": {},
   "outputs": [],
   "source": [
    "# merge the emotions DataFrame with the original DataFrame\n",
    "result_df = pd.concat([df, emotions_df], axis=1)\n"
   ]
  },
  {
   "cell_type": "code",
   "execution_count": 8,
   "id": "bdfb8cd7",
   "metadata": {},
   "outputs": [],
   "source": [
    "result_df.fillna(0, inplace=True)"
   ]
  },
  {
   "cell_type": "code",
   "execution_count": 9,
   "id": "3f972d67",
   "metadata": {},
   "outputs": [
    {
     "data": {
      "text/plain": [
       "Index(['Text', 'Class', 'positive', 'trust', 'joy', 'anger', 'negative',\n",
       "       'sadness', 'anticipation', 'fear', 'disgust', 'surprise'],\n",
       "      dtype='object')"
      ]
     },
     "execution_count": 9,
     "metadata": {},
     "output_type": "execute_result"
    }
   ],
   "source": [
    "result_df.columns"
   ]
  },
  {
   "cell_type": "code",
   "execution_count": 10,
   "id": "e3a6468a",
   "metadata": {},
   "outputs": [],
   "source": [
    "result_df['joy'] = result_df['joy'].astype(int)\n",
    "result_df['positive'] = result_df['positive'].astype(int)\n",
    "result_df['trust'] = result_df['trust'].astype(int)\n",
    "result_df['anger'] = result_df['anger'].astype(int)\n",
    "result_df['negative'] = result_df['negative'].astype(int)\n",
    "result_df['anticipation'] = result_df['anticipation'].astype(int)\n",
    "result_df['surprise'] = result_df['surprise'].astype(int)\n",
    "result_df['fear'] = result_df['fear'].astype(int)\n",
    "result_df['sadness'] = result_df['sadness'].astype(int)\n",
    "result_df['disgust'] = result_df['disgust'].astype(int)"
   ]
  },
  {
   "cell_type": "markdown",
   "id": "ef282cc8",
   "metadata": {},
   "source": [
    "#### Print the resulting dataframe with the extracted emotions"
   ]
  },
  {
   "cell_type": "code",
   "execution_count": 11,
   "id": "2dc0d95c",
   "metadata": {
    "scrolled": true
   },
   "outputs": [
    {
     "data": {
      "text/html": [
       "<div>\n",
       "<style scoped>\n",
       "    .dataframe tbody tr th:only-of-type {\n",
       "        vertical-align: middle;\n",
       "    }\n",
       "\n",
       "    .dataframe tbody tr th {\n",
       "        vertical-align: top;\n",
       "    }\n",
       "\n",
       "    .dataframe thead th {\n",
       "        text-align: right;\n",
       "    }\n",
       "</style>\n",
       "<table border=\"1\" class=\"dataframe\">\n",
       "  <thead>\n",
       "    <tr style=\"text-align: right;\">\n",
       "      <th></th>\n",
       "      <th>Text</th>\n",
       "      <th>Class</th>\n",
       "      <th>positive</th>\n",
       "      <th>trust</th>\n",
       "      <th>joy</th>\n",
       "      <th>anger</th>\n",
       "      <th>negative</th>\n",
       "      <th>sadness</th>\n",
       "      <th>anticipation</th>\n",
       "      <th>fear</th>\n",
       "      <th>disgust</th>\n",
       "      <th>surprise</th>\n",
       "    </tr>\n",
       "  </thead>\n",
       "  <tbody>\n",
       "    <tr>\n",
       "      <th>0</th>\n",
       "      <td>supply quality china's exclusive dimensions at...</td>\n",
       "      <td>1</td>\n",
       "      <td>1</td>\n",
       "      <td>1</td>\n",
       "      <td>1</td>\n",
       "      <td>1</td>\n",
       "      <td>1</td>\n",
       "      <td>1</td>\n",
       "      <td>0</td>\n",
       "      <td>0</td>\n",
       "      <td>0</td>\n",
       "      <td>0</td>\n",
       "    </tr>\n",
       "    <tr>\n",
       "      <th>1</th>\n",
       "      <td>over. sidlet me know. thx.</td>\n",
       "      <td>0</td>\n",
       "      <td>0</td>\n",
       "      <td>0</td>\n",
       "      <td>0</td>\n",
       "      <td>0</td>\n",
       "      <td>0</td>\n",
       "      <td>0</td>\n",
       "      <td>0</td>\n",
       "      <td>0</td>\n",
       "      <td>0</td>\n",
       "      <td>0</td>\n",
       "    </tr>\n",
       "    <tr>\n",
       "      <th>2</th>\n",
       "      <td>dear valued paypal® member: paypal® is committ...</td>\n",
       "      <td>1</td>\n",
       "      <td>1</td>\n",
       "      <td>1</td>\n",
       "      <td>1</td>\n",
       "      <td>1</td>\n",
       "      <td>1</td>\n",
       "      <td>1</td>\n",
       "      <td>1</td>\n",
       "      <td>1</td>\n",
       "      <td>1</td>\n",
       "      <td>0</td>\n",
       "    </tr>\n",
       "    <tr>\n",
       "      <th>3</th>\n",
       "      <td>paypal you're billing information! dear paypal...</td>\n",
       "      <td>1</td>\n",
       "      <td>1</td>\n",
       "      <td>1</td>\n",
       "      <td>0</td>\n",
       "      <td>1</td>\n",
       "      <td>1</td>\n",
       "      <td>1</td>\n",
       "      <td>1</td>\n",
       "      <td>1</td>\n",
       "      <td>1</td>\n",
       "      <td>0</td>\n",
       "    </tr>\n",
       "    <tr>\n",
       "      <th>4</th>\n",
       "      <td>we recently noticed one or more attempts to lo...</td>\n",
       "      <td>0</td>\n",
       "      <td>1</td>\n",
       "      <td>1</td>\n",
       "      <td>0</td>\n",
       "      <td>0</td>\n",
       "      <td>1</td>\n",
       "      <td>1</td>\n",
       "      <td>1</td>\n",
       "      <td>1</td>\n",
       "      <td>0</td>\n",
       "      <td>1</td>\n",
       "    </tr>\n",
       "    <tr>\n",
       "      <th>...</th>\n",
       "      <td>...</td>\n",
       "      <td>...</td>\n",
       "      <td>...</td>\n",
       "      <td>...</td>\n",
       "      <td>...</td>\n",
       "      <td>...</td>\n",
       "      <td>...</td>\n",
       "      <td>...</td>\n",
       "      <td>...</td>\n",
       "      <td>...</td>\n",
       "      <td>...</td>\n",
       "      <td>...</td>\n",
       "    </tr>\n",
       "    <tr>\n",
       "      <th>10925</th>\n",
       "      <td>(1)your full names(2)contact address (3)phone/...</td>\n",
       "      <td>1</td>\n",
       "      <td>1</td>\n",
       "      <td>1</td>\n",
       "      <td>0</td>\n",
       "      <td>0</td>\n",
       "      <td>0</td>\n",
       "      <td>0</td>\n",
       "      <td>0</td>\n",
       "      <td>0</td>\n",
       "      <td>0</td>\n",
       "      <td>0</td>\n",
       "    </tr>\n",
       "    <tr>\n",
       "      <th>10926</th>\n",
       "      <td>asked 3mobile if  chatlines inclu in free mins...</td>\n",
       "      <td>1</td>\n",
       "      <td>0</td>\n",
       "      <td>1</td>\n",
       "      <td>0</td>\n",
       "      <td>1</td>\n",
       "      <td>1</td>\n",
       "      <td>0</td>\n",
       "      <td>0</td>\n",
       "      <td>1</td>\n",
       "      <td>1</td>\n",
       "      <td>0</td>\n",
       "    </tr>\n",
       "    <tr>\n",
       "      <th>10927</th>\n",
       "      <td>had your contract mobile  mnths? latest motoro...</td>\n",
       "      <td>1</td>\n",
       "      <td>0</td>\n",
       "      <td>0</td>\n",
       "      <td>0</td>\n",
       "      <td>1</td>\n",
       "      <td>1</td>\n",
       "      <td>1</td>\n",
       "      <td>1</td>\n",
       "      <td>1</td>\n",
       "      <td>0</td>\n",
       "      <td>0</td>\n",
       "    </tr>\n",
       "    <tr>\n",
       "      <th>10928</th>\n",
       "      <td>morales</td>\n",
       "      <td>1</td>\n",
       "      <td>0</td>\n",
       "      <td>0</td>\n",
       "      <td>0</td>\n",
       "      <td>0</td>\n",
       "      <td>0</td>\n",
       "      <td>0</td>\n",
       "      <td>0</td>\n",
       "      <td>0</td>\n",
       "      <td>0</td>\n",
       "      <td>0</td>\n",
       "    </tr>\n",
       "    <tr>\n",
       "      <th>10929</th>\n",
       "      <td>this is the 2nd time we have tried  contact u....</td>\n",
       "      <td>1</td>\n",
       "      <td>1</td>\n",
       "      <td>0</td>\n",
       "      <td>0</td>\n",
       "      <td>1</td>\n",
       "      <td>1</td>\n",
       "      <td>0</td>\n",
       "      <td>1</td>\n",
       "      <td>0</td>\n",
       "      <td>0</td>\n",
       "      <td>0</td>\n",
       "    </tr>\n",
       "  </tbody>\n",
       "</table>\n",
       "<p>10930 rows × 12 columns</p>\n",
       "</div>"
      ],
      "text/plain": [
       "                                                    Text  Class  positive  \\\n",
       "0      supply quality china's exclusive dimensions at...      1         1   \n",
       "1                             over. sidlet me know. thx.      0         0   \n",
       "2      dear valued paypal® member: paypal® is committ...      1         1   \n",
       "3      paypal you're billing information! dear paypal...      1         1   \n",
       "4      we recently noticed one or more attempts to lo...      0         1   \n",
       "...                                                  ...    ...       ...   \n",
       "10925  (1)your full names(2)contact address (3)phone/...      1         1   \n",
       "10926  asked 3mobile if  chatlines inclu in free mins...      1         0   \n",
       "10927  had your contract mobile  mnths? latest motoro...      1         0   \n",
       "10928                                            morales      1         0   \n",
       "10929  this is the 2nd time we have tried  contact u....      1         1   \n",
       "\n",
       "       trust  joy  anger  negative  sadness  anticipation  fear  disgust  \\\n",
       "0          1    1      1         1        1             0     0        0   \n",
       "1          0    0      0         0        0             0     0        0   \n",
       "2          1    1      1         1        1             1     1        1   \n",
       "3          1    0      1         1        1             1     1        1   \n",
       "4          1    0      0         1        1             1     1        0   \n",
       "...      ...  ...    ...       ...      ...           ...   ...      ...   \n",
       "10925      1    0      0         0        0             0     0        0   \n",
       "10926      1    0      1         1        0             0     1        1   \n",
       "10927      0    0      1         1        1             1     1        0   \n",
       "10928      0    0      0         0        0             0     0        0   \n",
       "10929      0    0      1         1        0             1     0        0   \n",
       "\n",
       "       surprise  \n",
       "0             0  \n",
       "1             0  \n",
       "2             0  \n",
       "3             0  \n",
       "4             1  \n",
       "...         ...  \n",
       "10925         0  \n",
       "10926         0  \n",
       "10927         0  \n",
       "10928         0  \n",
       "10929         0  \n",
       "\n",
       "[10930 rows x 12 columns]"
      ]
     },
     "execution_count": 11,
     "metadata": {},
     "output_type": "execute_result"
    }
   ],
   "source": [
    "result_df"
   ]
  },
  {
   "cell_type": "markdown",
   "id": "70d7893e",
   "metadata": {},
   "source": [
    "## Sentiment analysis"
   ]
  },
  {
   "cell_type": "code",
   "execution_count": 12,
   "id": "4dfe6d59",
   "metadata": {},
   "outputs": [],
   "source": [
    "from textblob import TextBlob\n",
    "\n",
    "# Define a function to get sentiment polarity of each text\n",
    "def get_sentiment(text):\n",
    "    blob = TextBlob(text)\n",
    "    return blob.sentiment.polarity\n",
    "\n",
    "\n",
    "# Apply the function to each text in the dataset\n",
    "result_df['Sentiment'] = result_df['Text'].apply(get_sentiment)"
   ]
  },
  {
   "cell_type": "code",
   "execution_count": 13,
   "id": "133462b9",
   "metadata": {},
   "outputs": [
    {
     "data": {
      "text/html": [
       "<div>\n",
       "<style scoped>\n",
       "    .dataframe tbody tr th:only-of-type {\n",
       "        vertical-align: middle;\n",
       "    }\n",
       "\n",
       "    .dataframe tbody tr th {\n",
       "        vertical-align: top;\n",
       "    }\n",
       "\n",
       "    .dataframe thead th {\n",
       "        text-align: right;\n",
       "    }\n",
       "</style>\n",
       "<table border=\"1\" class=\"dataframe\">\n",
       "  <thead>\n",
       "    <tr style=\"text-align: right;\">\n",
       "      <th></th>\n",
       "      <th>Text</th>\n",
       "      <th>Class</th>\n",
       "      <th>positive</th>\n",
       "      <th>trust</th>\n",
       "      <th>joy</th>\n",
       "      <th>anger</th>\n",
       "      <th>negative</th>\n",
       "      <th>sadness</th>\n",
       "      <th>anticipation</th>\n",
       "      <th>fear</th>\n",
       "      <th>disgust</th>\n",
       "      <th>surprise</th>\n",
       "      <th>Sentiment</th>\n",
       "    </tr>\n",
       "  </thead>\n",
       "  <tbody>\n",
       "    <tr>\n",
       "      <th>0</th>\n",
       "      <td>supply quality china's exclusive dimensions at...</td>\n",
       "      <td>1</td>\n",
       "      <td>1</td>\n",
       "      <td>1</td>\n",
       "      <td>1</td>\n",
       "      <td>1</td>\n",
       "      <td>1</td>\n",
       "      <td>1</td>\n",
       "      <td>0</td>\n",
       "      <td>0</td>\n",
       "      <td>0</td>\n",
       "      <td>0</td>\n",
       "      <td>0.095688</td>\n",
       "    </tr>\n",
       "    <tr>\n",
       "      <th>1</th>\n",
       "      <td>over. sidlet me know. thx.</td>\n",
       "      <td>0</td>\n",
       "      <td>0</td>\n",
       "      <td>0</td>\n",
       "      <td>0</td>\n",
       "      <td>0</td>\n",
       "      <td>0</td>\n",
       "      <td>0</td>\n",
       "      <td>0</td>\n",
       "      <td>0</td>\n",
       "      <td>0</td>\n",
       "      <td>0</td>\n",
       "      <td>0.000000</td>\n",
       "    </tr>\n",
       "    <tr>\n",
       "      <th>2</th>\n",
       "      <td>dear valued paypal® member: paypal® is committ...</td>\n",
       "      <td>1</td>\n",
       "      <td>1</td>\n",
       "      <td>1</td>\n",
       "      <td>1</td>\n",
       "      <td>1</td>\n",
       "      <td>1</td>\n",
       "      <td>1</td>\n",
       "      <td>1</td>\n",
       "      <td>1</td>\n",
       "      <td>1</td>\n",
       "      <td>0</td>\n",
       "      <td>0.145421</td>\n",
       "    </tr>\n",
       "    <tr>\n",
       "      <th>3</th>\n",
       "      <td>paypal you're billing information! dear paypal...</td>\n",
       "      <td>1</td>\n",
       "      <td>1</td>\n",
       "      <td>1</td>\n",
       "      <td>0</td>\n",
       "      <td>1</td>\n",
       "      <td>1</td>\n",
       "      <td>1</td>\n",
       "      <td>1</td>\n",
       "      <td>1</td>\n",
       "      <td>1</td>\n",
       "      <td>0</td>\n",
       "      <td>0.145625</td>\n",
       "    </tr>\n",
       "    <tr>\n",
       "      <th>4</th>\n",
       "      <td>we recently noticed one or more attempts to lo...</td>\n",
       "      <td>0</td>\n",
       "      <td>1</td>\n",
       "      <td>1</td>\n",
       "      <td>0</td>\n",
       "      <td>0</td>\n",
       "      <td>1</td>\n",
       "      <td>1</td>\n",
       "      <td>1</td>\n",
       "      <td>1</td>\n",
       "      <td>0</td>\n",
       "      <td>1</td>\n",
       "      <td>0.072619</td>\n",
       "    </tr>\n",
       "    <tr>\n",
       "      <th>5</th>\n",
       "      <td>is already is locked for tonite. i am seeing h...</td>\n",
       "      <td>0</td>\n",
       "      <td>0</td>\n",
       "      <td>0</td>\n",
       "      <td>0</td>\n",
       "      <td>0</td>\n",
       "      <td>0</td>\n",
       "      <td>0</td>\n",
       "      <td>0</td>\n",
       "      <td>0</td>\n",
       "      <td>0</td>\n",
       "      <td>0</td>\n",
       "      <td>0.142857</td>\n",
       "    </tr>\n",
       "    <tr>\n",
       "      <th>6</th>\n",
       "      <td>whi - powder coatingb6</td>\n",
       "      <td>0</td>\n",
       "      <td>0</td>\n",
       "      <td>0</td>\n",
       "      <td>0</td>\n",
       "      <td>0</td>\n",
       "      <td>0</td>\n",
       "      <td>0</td>\n",
       "      <td>0</td>\n",
       "      <td>0</td>\n",
       "      <td>0</td>\n",
       "      <td>0</td>\n",
       "      <td>0.000000</td>\n",
       "    </tr>\n",
       "    <tr>\n",
       "      <th>7</th>\n",
       "      <td>could we schedule a call?i have several matter...</td>\n",
       "      <td>0</td>\n",
       "      <td>1</td>\n",
       "      <td>0</td>\n",
       "      <td>1</td>\n",
       "      <td>0</td>\n",
       "      <td>0</td>\n",
       "      <td>0</td>\n",
       "      <td>1</td>\n",
       "      <td>0</td>\n",
       "      <td>0</td>\n",
       "      <td>0</td>\n",
       "      <td>0.250000</td>\n",
       "    </tr>\n",
       "    <tr>\n",
       "      <th>8</th>\n",
       "      <td>dear customer, we recently noticed one or more...</td>\n",
       "      <td>1</td>\n",
       "      <td>1</td>\n",
       "      <td>1</td>\n",
       "      <td>0</td>\n",
       "      <td>0</td>\n",
       "      <td>1</td>\n",
       "      <td>1</td>\n",
       "      <td>1</td>\n",
       "      <td>1</td>\n",
       "      <td>0</td>\n",
       "      <td>1</td>\n",
       "      <td>0.072619</td>\n",
       "    </tr>\n",
       "    <tr>\n",
       "      <th>9</th>\n",
       "      <td>fyi. thanks again for signing the book ---- an...</td>\n",
       "      <td>0</td>\n",
       "      <td>1</td>\n",
       "      <td>1</td>\n",
       "      <td>1</td>\n",
       "      <td>0</td>\n",
       "      <td>0</td>\n",
       "      <td>0</td>\n",
       "      <td>1</td>\n",
       "      <td>0</td>\n",
       "      <td>0</td>\n",
       "      <td>1</td>\n",
       "      <td>0.250000</td>\n",
       "    </tr>\n",
       "  </tbody>\n",
       "</table>\n",
       "</div>"
      ],
      "text/plain": [
       "                                                Text  Class  positive  trust  \\\n",
       "0  supply quality china's exclusive dimensions at...      1         1      1   \n",
       "1                         over. sidlet me know. thx.      0         0      0   \n",
       "2  dear valued paypal® member: paypal® is committ...      1         1      1   \n",
       "3  paypal you're billing information! dear paypal...      1         1      1   \n",
       "4  we recently noticed one or more attempts to lo...      0         1      1   \n",
       "5  is already is locked for tonite. i am seeing h...      0         0      0   \n",
       "6                             whi - powder coatingb6      0         0      0   \n",
       "7  could we schedule a call?i have several matter...      0         1      0   \n",
       "8  dear customer, we recently noticed one or more...      1         1      1   \n",
       "9  fyi. thanks again for signing the book ---- an...      0         1      1   \n",
       "\n",
       "   joy  anger  negative  sadness  anticipation  fear  disgust  surprise  \\\n",
       "0    1      1         1        1             0     0        0         0   \n",
       "1    0      0         0        0             0     0        0         0   \n",
       "2    1      1         1        1             1     1        1         0   \n",
       "3    0      1         1        1             1     1        1         0   \n",
       "4    0      0         1        1             1     1        0         1   \n",
       "5    0      0         0        0             0     0        0         0   \n",
       "6    0      0         0        0             0     0        0         0   \n",
       "7    1      0         0        0             1     0        0         0   \n",
       "8    0      0         1        1             1     1        0         1   \n",
       "9    1      0         0        0             1     0        0         1   \n",
       "\n",
       "   Sentiment  \n",
       "0   0.095688  \n",
       "1   0.000000  \n",
       "2   0.145421  \n",
       "3   0.145625  \n",
       "4   0.072619  \n",
       "5   0.142857  \n",
       "6   0.000000  \n",
       "7   0.250000  \n",
       "8   0.072619  \n",
       "9   0.250000  "
      ]
     },
     "execution_count": 13,
     "metadata": {},
     "output_type": "execute_result"
    }
   ],
   "source": [
    "result_df.head(10)"
   ]
  },
  {
   "cell_type": "code",
   "execution_count": 14,
   "id": "8752fce9",
   "metadata": {},
   "outputs": [],
   "source": [
    "result_df = result_df.drop(columns=['Text'])\n"
   ]
  },
  {
   "cell_type": "code",
   "execution_count": 15,
   "id": "39a735f0",
   "metadata": {},
   "outputs": [
    {
     "data": {
      "text/html": [
       "<div>\n",
       "<style scoped>\n",
       "    .dataframe tbody tr th:only-of-type {\n",
       "        vertical-align: middle;\n",
       "    }\n",
       "\n",
       "    .dataframe tbody tr th {\n",
       "        vertical-align: top;\n",
       "    }\n",
       "\n",
       "    .dataframe thead th {\n",
       "        text-align: right;\n",
       "    }\n",
       "</style>\n",
       "<table border=\"1\" class=\"dataframe\">\n",
       "  <thead>\n",
       "    <tr style=\"text-align: right;\">\n",
       "      <th></th>\n",
       "      <th>Class</th>\n",
       "      <th>positive</th>\n",
       "      <th>trust</th>\n",
       "      <th>joy</th>\n",
       "      <th>anger</th>\n",
       "      <th>negative</th>\n",
       "      <th>sadness</th>\n",
       "      <th>anticipation</th>\n",
       "      <th>fear</th>\n",
       "      <th>disgust</th>\n",
       "      <th>surprise</th>\n",
       "      <th>Sentiment</th>\n",
       "    </tr>\n",
       "  </thead>\n",
       "  <tbody>\n",
       "    <tr>\n",
       "      <th>0</th>\n",
       "      <td>1</td>\n",
       "      <td>1</td>\n",
       "      <td>1</td>\n",
       "      <td>1</td>\n",
       "      <td>1</td>\n",
       "      <td>1</td>\n",
       "      <td>1</td>\n",
       "      <td>0</td>\n",
       "      <td>0</td>\n",
       "      <td>0</td>\n",
       "      <td>0</td>\n",
       "      <td>0.095688</td>\n",
       "    </tr>\n",
       "    <tr>\n",
       "      <th>1</th>\n",
       "      <td>0</td>\n",
       "      <td>0</td>\n",
       "      <td>0</td>\n",
       "      <td>0</td>\n",
       "      <td>0</td>\n",
       "      <td>0</td>\n",
       "      <td>0</td>\n",
       "      <td>0</td>\n",
       "      <td>0</td>\n",
       "      <td>0</td>\n",
       "      <td>0</td>\n",
       "      <td>0.000000</td>\n",
       "    </tr>\n",
       "    <tr>\n",
       "      <th>2</th>\n",
       "      <td>1</td>\n",
       "      <td>1</td>\n",
       "      <td>1</td>\n",
       "      <td>1</td>\n",
       "      <td>1</td>\n",
       "      <td>1</td>\n",
       "      <td>1</td>\n",
       "      <td>1</td>\n",
       "      <td>1</td>\n",
       "      <td>1</td>\n",
       "      <td>0</td>\n",
       "      <td>0.145421</td>\n",
       "    </tr>\n",
       "    <tr>\n",
       "      <th>3</th>\n",
       "      <td>1</td>\n",
       "      <td>1</td>\n",
       "      <td>1</td>\n",
       "      <td>0</td>\n",
       "      <td>1</td>\n",
       "      <td>1</td>\n",
       "      <td>1</td>\n",
       "      <td>1</td>\n",
       "      <td>1</td>\n",
       "      <td>1</td>\n",
       "      <td>0</td>\n",
       "      <td>0.145625</td>\n",
       "    </tr>\n",
       "    <tr>\n",
       "      <th>4</th>\n",
       "      <td>0</td>\n",
       "      <td>1</td>\n",
       "      <td>1</td>\n",
       "      <td>0</td>\n",
       "      <td>0</td>\n",
       "      <td>1</td>\n",
       "      <td>1</td>\n",
       "      <td>1</td>\n",
       "      <td>1</td>\n",
       "      <td>0</td>\n",
       "      <td>1</td>\n",
       "      <td>0.072619</td>\n",
       "    </tr>\n",
       "    <tr>\n",
       "      <th>...</th>\n",
       "      <td>...</td>\n",
       "      <td>...</td>\n",
       "      <td>...</td>\n",
       "      <td>...</td>\n",
       "      <td>...</td>\n",
       "      <td>...</td>\n",
       "      <td>...</td>\n",
       "      <td>...</td>\n",
       "      <td>...</td>\n",
       "      <td>...</td>\n",
       "      <td>...</td>\n",
       "      <td>...</td>\n",
       "    </tr>\n",
       "    <tr>\n",
       "      <th>10925</th>\n",
       "      <td>1</td>\n",
       "      <td>1</td>\n",
       "      <td>1</td>\n",
       "      <td>0</td>\n",
       "      <td>0</td>\n",
       "      <td>0</td>\n",
       "      <td>0</td>\n",
       "      <td>0</td>\n",
       "      <td>0</td>\n",
       "      <td>0</td>\n",
       "      <td>0</td>\n",
       "      <td>0.350000</td>\n",
       "    </tr>\n",
       "    <tr>\n",
       "      <th>10926</th>\n",
       "      <td>1</td>\n",
       "      <td>0</td>\n",
       "      <td>1</td>\n",
       "      <td>0</td>\n",
       "      <td>1</td>\n",
       "      <td>1</td>\n",
       "      <td>0</td>\n",
       "      <td>0</td>\n",
       "      <td>1</td>\n",
       "      <td>1</td>\n",
       "      <td>0</td>\n",
       "      <td>0.025000</td>\n",
       "    </tr>\n",
       "    <tr>\n",
       "      <th>10927</th>\n",
       "      <td>1</td>\n",
       "      <td>0</td>\n",
       "      <td>0</td>\n",
       "      <td>0</td>\n",
       "      <td>1</td>\n",
       "      <td>1</td>\n",
       "      <td>1</td>\n",
       "      <td>1</td>\n",
       "      <td>1</td>\n",
       "      <td>0</td>\n",
       "      <td>0</td>\n",
       "      <td>0.333333</td>\n",
       "    </tr>\n",
       "    <tr>\n",
       "      <th>10928</th>\n",
       "      <td>1</td>\n",
       "      <td>0</td>\n",
       "      <td>0</td>\n",
       "      <td>0</td>\n",
       "      <td>0</td>\n",
       "      <td>0</td>\n",
       "      <td>0</td>\n",
       "      <td>0</td>\n",
       "      <td>0</td>\n",
       "      <td>0</td>\n",
       "      <td>0</td>\n",
       "      <td>0.000000</td>\n",
       "    </tr>\n",
       "    <tr>\n",
       "      <th>10929</th>\n",
       "      <td>1</td>\n",
       "      <td>1</td>\n",
       "      <td>0</td>\n",
       "      <td>0</td>\n",
       "      <td>1</td>\n",
       "      <td>1</td>\n",
       "      <td>0</td>\n",
       "      <td>1</td>\n",
       "      <td>0</td>\n",
       "      <td>0</td>\n",
       "      <td>0</td>\n",
       "      <td>0.180556</td>\n",
       "    </tr>\n",
       "  </tbody>\n",
       "</table>\n",
       "<p>10930 rows × 12 columns</p>\n",
       "</div>"
      ],
      "text/plain": [
       "       Class  positive  trust  joy  anger  negative  sadness  anticipation  \\\n",
       "0          1         1      1    1      1         1        1             0   \n",
       "1          0         0      0    0      0         0        0             0   \n",
       "2          1         1      1    1      1         1        1             1   \n",
       "3          1         1      1    0      1         1        1             1   \n",
       "4          0         1      1    0      0         1        1             1   \n",
       "...      ...       ...    ...  ...    ...       ...      ...           ...   \n",
       "10925      1         1      1    0      0         0        0             0   \n",
       "10926      1         0      1    0      1         1        0             0   \n",
       "10927      1         0      0    0      1         1        1             1   \n",
       "10928      1         0      0    0      0         0        0             0   \n",
       "10929      1         1      0    0      1         1        0             1   \n",
       "\n",
       "       fear  disgust  surprise  Sentiment  \n",
       "0         0        0         0   0.095688  \n",
       "1         0        0         0   0.000000  \n",
       "2         1        1         0   0.145421  \n",
       "3         1        1         0   0.145625  \n",
       "4         1        0         1   0.072619  \n",
       "...     ...      ...       ...        ...  \n",
       "10925     0        0         0   0.350000  \n",
       "10926     1        1         0   0.025000  \n",
       "10927     1        0         0   0.333333  \n",
       "10928     0        0         0   0.000000  \n",
       "10929     0        0         0   0.180556  \n",
       "\n",
       "[10930 rows x 12 columns]"
      ]
     },
     "execution_count": 15,
     "metadata": {},
     "output_type": "execute_result"
    }
   ],
   "source": [
    "result_df"
   ]
  },
  {
   "cell_type": "markdown",
   "id": "60eb86e6",
   "metadata": {},
   "source": [
    "## Modeling"
   ]
  },
  {
   "cell_type": "code",
   "execution_count": 16,
   "id": "23f7f4ed",
   "metadata": {},
   "outputs": [],
   "source": [
    "# Separating features and target\n",
    "X = result_df.drop('Class', axis=1)\n",
    "y = result_df['Class']\n"
   ]
  },
  {
   "cell_type": "code",
   "execution_count": 17,
   "id": "0f05b028",
   "metadata": {},
   "outputs": [
    {
     "name": "stdout",
     "output_type": "stream",
     "text": [
      "Training set size: 8744\n",
      "Test set size: 2186\n"
     ]
    }
   ],
   "source": [
    "from sklearn.model_selection import train_test_split\n",
    "# Split the dataset into training set and test set\n",
    "X_train, X_test, y_train, y_test = train_test_split(X, y, test_size=0.2, random_state=42)\n",
    "# Print the dimensions of the datasets\n",
    "print(\"Training set size:\", X_train.shape[0])\n",
    "print(\"Test set size:\", X_test.shape[0])"
   ]
  },
  {
   "cell_type": "markdown",
   "id": "a9a6b11b",
   "metadata": {},
   "source": [
    "### Trying different models and comparing their performances"
   ]
  },
  {
   "cell_type": "markdown",
   "id": "1f7fd263",
   "metadata": {},
   "source": [
    "### Logistic Regression"
   ]
  },
  {
   "cell_type": "code",
   "execution_count": 18,
   "id": "f73c215c",
   "metadata": {},
   "outputs": [
    {
     "name": "stdout",
     "output_type": "stream",
     "text": [
      "Accuracy: 0.7959743824336688\n"
     ]
    }
   ],
   "source": [
    "from sklearn.linear_model import LogisticRegression\n",
    "from sklearn.metrics import accuracy_score\n",
    "\n",
    "# Instantiation and training of the model\n",
    "lr = LogisticRegression()\n",
    "lr.fit(X_train, y_train)\n",
    "\n",
    "# Prediction on the test data\n",
    "y_pred_lr = lr.predict(X_test)\n",
    "\n",
    "# Calculation of accuracy\n",
    "accuracy = accuracy_score(y_test, y_pred_lr)\n",
    "print('Accuracy:', accuracy)"
   ]
  },
  {
   "cell_type": "markdown",
   "id": "065ddece",
   "metadata": {},
   "source": [
    "### Decision Tree + Grid search"
   ]
  },
  {
   "cell_type": "code",
   "execution_count": 19,
   "id": "7757329f",
   "metadata": {},
   "outputs": [
    {
     "name": "stdout",
     "output_type": "stream",
     "text": [
      "Accuracy: 0.7959743824336688\n",
      "Best hyperparameters: {'max_depth': 10, 'min_samples_leaf': 1, 'min_samples_split': 5}\n"
     ]
    }
   ],
   "source": [
    "from sklearn.tree import DecisionTreeClassifier\n",
    "from sklearn.model_selection import GridSearchCV\n",
    "from sklearn.metrics import accuracy_score\n",
    "\n",
    "# Define the hyperparameter grid to search over\n",
    "param_grid = {\n",
    "    'max_depth': [5, 10, 15, 20],\n",
    "    'min_samples_split': [2, 5, 10],\n",
    "    'min_samples_leaf': [1, 2, 4],\n",
    "}\n",
    "\n",
    "# Instantiate the decision tree classifier and the grid search\n",
    "dt = DecisionTreeClassifier()\n",
    "dt_grid = GridSearchCV(dt, param_grid, cv=5)\n",
    "\n",
    "# Fit the grid search to the training data\n",
    "dt_grid.fit(X_train, y_train)\n",
    "\n",
    "# Make predictions on the validation set\n",
    "y_pred_dt = dt_grid.predict(X_test)\n",
    "\n",
    "# Calculate the accuracy of the classifier\n",
    "accuracy_DecisionTree = accuracy_score(y_test, y_pred_dt)\n",
    "print('Accuracy:', accuracy_DecisionTree)\n",
    "\n",
    "# Print the best hyperparameters found by the grid search\n",
    "print('Best hyperparameters:', dt_grid.best_params_)\n"
   ]
  },
  {
   "cell_type": "markdown",
   "id": "41dec898",
   "metadata": {},
   "source": [
    "### Random Forest + Grid search"
   ]
  },
  {
   "cell_type": "code",
   "execution_count": 20,
   "id": "0f3b8420",
   "metadata": {},
   "outputs": [
    {
     "name": "stdout",
     "output_type": "stream",
     "text": [
      "Best hyperparameters:  {'max_depth': 10, 'n_estimators': 100}\n",
      "Best score:  0.8035232947758313\n",
      "Accuracy: 0.8046660567246111\n"
     ]
    }
   ],
   "source": [
    "from sklearn.model_selection import GridSearchCV\n",
    "from sklearn.ensemble import RandomForestClassifier\n",
    "\n",
    "# Define the parameter grid to search over\n",
    "param_grid = {\n",
    "    'n_estimators': [50, 100, 200],\n",
    "    'max_depth': [10, 20, 30, None]\n",
    "}\n",
    "\n",
    "# Instantiate the random forest classifier\n",
    "rf = RandomForestClassifier(random_state=42)\n",
    "\n",
    "# Create the GridSearchCV object\n",
    "grid_search = GridSearchCV(rf, param_grid, cv=5, n_jobs=-1)\n",
    "\n",
    "# Fit the GridSearchCV object to the data\n",
    "grid_search.fit(X_train, y_train)\n",
    "\n",
    "# Print the best hyperparameters and the corresponding score\n",
    "print(\"Best hyperparameters: \", grid_search.best_params_)\n",
    "print(\"Best score: \", grid_search.best_score_)\n",
    "\n",
    "# Make predictions on the validation set using the best estimator\n",
    "y_pred_rf = grid_search.best_estimator_.predict(X_test)\n",
    "\n",
    "# Calculate the accuracy of the classifier\n",
    "accuracy_RandomForest = accuracy_score(y_test, y_pred_rf)\n",
    "print('Accuracy:', accuracy_RandomForest)\n"
   ]
  },
  {
   "cell_type": "markdown",
   "id": "de487b89",
   "metadata": {},
   "source": [
    "## XGBoost + Grid search"
   ]
  },
  {
   "cell_type": "code",
   "execution_count": 21,
   "id": "5db05e8c",
   "metadata": {},
   "outputs": [
    {
     "name": "stdout",
     "output_type": "stream",
     "text": [
      "Best parameters: {'learning_rate': 0.1, 'max_depth': 3, 'n_estimators': 150}\n",
      "Accuracy: 0.8096980786825252\n"
     ]
    }
   ],
   "source": [
    "import xgboost as xgb\n",
    "from sklearn.metrics import accuracy_score\n",
    "from sklearn.model_selection import GridSearchCV\n",
    "\n",
    "# Define the parameter grid to search\n",
    "param_grid = {\n",
    "    'max_depth': [3, 5, 7],\n",
    "    'learning_rate': [0.1, 0.01],\n",
    "    'n_estimators': [50, 100, 150]\n",
    "}\n",
    "\n",
    "# Instantiate the XGBoost classifier\n",
    "xgb_clf = xgb.XGBClassifier(random_state=42)\n",
    "\n",
    "# Create the GridSearchCV object\n",
    "xgb_grid = GridSearchCV(xgb_clf, param_grid, cv=5)\n",
    "\n",
    "# Train the GridSearchCV object on the training set\n",
    "xgb_grid.fit(X_train, y_train)\n",
    "\n",
    "# Get the best hyperparameters and evaluate the model on the validation set\n",
    "xgb_clf = xgb_grid.best_estimator_\n",
    "y_pred_xgb = xgb_clf.predict(X_test)\n",
    "accuracy_XGB = accuracy_score(y_test, y_pred_xgb)\n",
    "\n",
    "print(\"Best parameters:\", xgb_grid.best_params_)\n",
    "print(\"Accuracy:\", accuracy_XGB)\n"
   ]
  },
  {
   "cell_type": "markdown",
   "id": "3c87fa05",
   "metadata": {},
   "source": [
    "## Naive Bayes"
   ]
  },
  {
   "cell_type": "code",
   "execution_count": 22,
   "id": "38c3d513",
   "metadata": {},
   "outputs": [
    {
     "name": "stdout",
     "output_type": "stream",
     "text": [
      "Accuracy: 0.7941445562671546\n"
     ]
    }
   ],
   "source": [
    "from sklearn.naive_bayes import GaussianNB\n",
    "from sklearn.model_selection import train_test_split\n",
    "from sklearn.metrics import accuracy_score\n",
    "\n",
    "# Instantiate and train the Naive Bayes classifier\n",
    "nb = GaussianNB()\n",
    "nb.fit(X_train, y_train)\n",
    "\n",
    "# Make predictions on the validation set\n",
    "y_pred_nb = nb.predict(X_test)\n",
    "\n",
    "# Calculate the accuracy of the classifier\n",
    "accuracy_GaussianNB = accuracy_score(y_test, y_pred_nb)\n",
    "print('Accuracy:', accuracy_GaussianNB)\n"
   ]
  },
  {
   "cell_type": "markdown",
   "id": "d2e8741b",
   "metadata": {},
   "source": [
    "### Comparing the different models' accuracies"
   ]
  },
  {
   "cell_type": "code",
   "execution_count": 23,
   "id": "51ca010b",
   "metadata": {},
   "outputs": [
    {
     "data": {
      "image/png": "[encoded data removed]",
      "text/plain": [
       "<Figure size 432x288 with 1 Axes>"
      ]
     },
     "metadata": {
      "needs_background": "light"
     },
     "output_type": "display_data"
    }
   ],
   "source": [
    "import matplotlib.pyplot as plt\n",
    "\n",
    "# set background color to white and axis color to black\n",
    "plt.rcParams['axes.facecolor'] = 'white'\n",
    "plt.rcParams['axes.edgecolor'] = 'black'\n",
    "\n",
    "# create data for the three models\n",
    "model_names = ['Decision Tree', 'RandomForest', 'XGBoost', 'Naive Bayes']\n",
    "accuracies = [accuracy_DecisionTree, accuracy_RandomForest, accuracy_XGB, accuracy_GaussianNB]\n",
    "\n",
    "# create a bar plot of the data\n",
    "plt.bar(model_names, accuracies, color=['#CAC6E1', '#F5AFA4', '#C5A5B0', '#FFC49F'])\n",
    "\n",
    "# add numerical values to the bars\n",
    "for i, val in enumerate(accuracies):\n",
    "    plt.text(i, val, round(val, 2), horizontalalignment='center', verticalalignment='bottom', fontweight='bold')\n",
    "\n",
    "# add axis labels and a title\n",
    "plt.title(\"Comparaison des modèles\")\n",
    "plt.xlabel(\"Modèles\")\n",
    "plt.ylabel(\"Accuracy\")\n",
    "\n",
    "# set y-axis limits\n",
    "plt.ylim(0.7, 1.0)\n",
    "\n",
    "# show the plot\n",
    "plt.show()\n"
   ]
  },
  {
   "cell_type": "markdown",
   "id": "57478850",
   "metadata": {},
   "source": [
    "As can be inferred from the bar plot, the random forest model achieved the highest accuracy."
   ]
  },
  {
   "cell_type": "markdown",
   "id": "4e76b09c",
   "metadata": {},
   "source": [
    " ## Saving the best model to disk"
   ]
  },
  {
   "cell_type": "code",
   "execution_count": 28,
   "id": "565864d4",
   "metadata": {},
   "outputs": [
    {
     "data": {
      "text/plain": [
       "['Email_phishing_detection/sentiment_analysis_model.joblib']"
      ]
     },
     "execution_count": 28,
     "metadata": {},
     "output_type": "execute_result"
    }
   ],
   "source": [
    "# Save the trained model to disk\n",
    "joblib.dump(grid_search.best_estimator_, 'Email_phishing_detection/sentiment_analysis_model.joblib')"
   ]
  },
  {
   "cell_type": "code",
   "execution_count": null,
   "id": "6f0cd9ee",
   "metadata": {},
   "outputs": [],
   "source": []
  }
 ],
 "metadata": {
  "kernelspec": {
   "display_name": "Python 3",
   "language": "python",
   "name": "python3"
  },
  "language_info": {
   "codemirror_mode": {
    "name": "ipython",
    "version": 3
   },
   "file_extension": ".py",
   "mimetype": "text/x-python",
   "name": "python",
   "nbconvert_exporter": "python",
   "pygments_lexer": "ipython3",
   "version": "3.8.8"
  }
 },
 "nbformat": 4,
 "nbformat_minor": 5
}
